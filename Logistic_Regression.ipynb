{
 "cells": [
  {
   "cell_type": "code",
   "execution_count": 2,
   "id": "a891d3a2",
   "metadata": {},
   "outputs": [],
   "source": [
    "import matplotlib.pyplot as plt\n",
    "import numpy as np\n",
    "import pandas as pd\n",
    "import math"
   ]
  },
  {
   "cell_type": "code",
   "execution_count": 3,
   "id": "621a8273",
   "metadata": {},
   "outputs": [
    {
     "data": {
      "image/png": "[encoded data removed]",
      "text/plain": [
       "<Figure size 640x480 with 1 Axes>"
      ]
     },
     "metadata": {},
     "output_type": "display_data"
    }
   ],
   "source": [
    "def sigmoid(z):\n",
    "    sigmoid = 1/(1 + np.exp(-z))\n",
    "    return sigmoid\n",
    "\n",
    "z = np.arange(-10, 10, 0.1)\n",
    "g = 1/(1+np.exp(-z))\n",
    "plt.plot(z, g)\n",
    "plt.show()"
   ]
  },
  {
   "cell_type": "code",
   "execution_count": 4,
   "id": "f9d9cc15",
   "metadata": {},
   "outputs": [
    {
     "data": {
      "text/html": [
       "<div>\n",
       "<style scoped>\n",
       "    .dataframe tbody tr th:only-of-type {\n",
       "        vertical-align: middle;\n",
       "    }\n",
       "\n",
       "    .dataframe tbody tr th {\n",
       "        vertical-align: top;\n",
       "    }\n",
       "\n",
       "    .dataframe thead th {\n",
       "        text-align: right;\n",
       "    }\n",
       "</style>\n",
       "<table border=\"1\" class=\"dataframe\">\n",
       "  <thead>\n",
       "    <tr style=\"text-align: right;\">\n",
       "      <th></th>\n",
       "      <th>Survived</th>\n",
       "      <th>Pclass</th>\n",
       "      <th>Name</th>\n",
       "      <th>Sex</th>\n",
       "      <th>Age</th>\n",
       "      <th>Siblings/Spouses Aboard</th>\n",
       "      <th>Parents/Children Aboard</th>\n",
       "      <th>Fare</th>\n",
       "    </tr>\n",
       "  </thead>\n",
       "  <tbody>\n",
       "    <tr>\n",
       "      <th>0</th>\n",
       "      <td>0</td>\n",
       "      <td>3</td>\n",
       "      <td>Mr. Owen Harris Braund</td>\n",
       "      <td>male</td>\n",
       "      <td>22.0</td>\n",
       "      <td>1</td>\n",
       "      <td>0</td>\n",
       "      <td>7.2500</td>\n",
       "    </tr>\n",
       "    <tr>\n",
       "      <th>1</th>\n",
       "      <td>1</td>\n",
       "      <td>1</td>\n",
       "      <td>Mrs. John Bradley (Florence Briggs Thayer) Cum...</td>\n",
       "      <td>female</td>\n",
       "      <td>38.0</td>\n",
       "      <td>1</td>\n",
       "      <td>0</td>\n",
       "      <td>71.2833</td>\n",
       "    </tr>\n",
       "    <tr>\n",
       "      <th>2</th>\n",
       "      <td>1</td>\n",
       "      <td>3</td>\n",
       "      <td>Miss. Laina Heikkinen</td>\n",
       "      <td>female</td>\n",
       "      <td>26.0</td>\n",
       "      <td>0</td>\n",
       "      <td>0</td>\n",
       "      <td>7.9250</td>\n",
       "    </tr>\n",
       "    <tr>\n",
       "      <th>3</th>\n",
       "      <td>1</td>\n",
       "      <td>1</td>\n",
       "      <td>Mrs. Jacques Heath (Lily May Peel) Futrelle</td>\n",
       "      <td>female</td>\n",
       "      <td>35.0</td>\n",
       "      <td>1</td>\n",
       "      <td>0</td>\n",
       "      <td>53.1000</td>\n",
       "    </tr>\n",
       "    <tr>\n",
       "      <th>4</th>\n",
       "      <td>0</td>\n",
       "      <td>3</td>\n",
       "      <td>Mr. William Henry Allen</td>\n",
       "      <td>male</td>\n",
       "      <td>35.0</td>\n",
       "      <td>0</td>\n",
       "      <td>0</td>\n",
       "      <td>8.0500</td>\n",
       "    </tr>\n",
       "  </tbody>\n",
       "</table>\n",
       "</div>"
      ],
      "text/plain": [
       "   Survived  Pclass                                               Name  \\\n",
       "0         0       3                             Mr. Owen Harris Braund   \n",
       "1         1       1  Mrs. John Bradley (Florence Briggs Thayer) Cum...   \n",
       "2         1       3                              Miss. Laina Heikkinen   \n",
       "3         1       1        Mrs. Jacques Heath (Lily May Peel) Futrelle   \n",
       "4         0       3                            Mr. William Henry Allen   \n",
       "\n",
       "      Sex   Age  Siblings/Spouses Aboard  Parents/Children Aboard     Fare  \n",
       "0    male  22.0                        1                        0   7.2500  \n",
       "1  female  38.0                        1                        0  71.2833  \n",
       "2  female  26.0                        0                        0   7.9250  \n",
       "3  female  35.0                        1                        0  53.1000  \n",
       "4    male  35.0                        0                        0   8.0500  "
      ]
     },
     "execution_count": 4,
     "metadata": {},
     "output_type": "execute_result"
    }
   ],
   "source": [
    "train_data = pd.read_csv('train_logistic.csv')\n",
    "train_data.head()"
   ]
  },
  {
   "cell_type": "code",
   "execution_count": 5,
   "id": "fa9e43be",
   "metadata": {},
   "outputs": [
    {
     "data": {
      "text/html": [
       "<div>\n",
       "<style scoped>\n",
       "    .dataframe tbody tr th:only-of-type {\n",
       "        vertical-align: middle;\n",
       "    }\n",
       "\n",
       "    .dataframe tbody tr th {\n",
       "        vertical-align: top;\n",
       "    }\n",
       "\n",
       "    .dataframe thead th {\n",
       "        text-align: right;\n",
       "    }\n",
       "</style>\n",
       "<table border=\"1\" class=\"dataframe\">\n",
       "  <thead>\n",
       "    <tr style=\"text-align: right;\">\n",
       "      <th></th>\n",
       "      <th>Survived</th>\n",
       "      <th>Pclass</th>\n",
       "      <th>Name</th>\n",
       "      <th>Sex</th>\n",
       "      <th>Age</th>\n",
       "      <th>Siblings/Spouses Aboard</th>\n",
       "      <th>Parents/Children Aboard</th>\n",
       "      <th>Fare</th>\n",
       "    </tr>\n",
       "  </thead>\n",
       "  <tbody>\n",
       "    <tr>\n",
       "      <th>0</th>\n",
       "      <td>False</td>\n",
       "      <td>False</td>\n",
       "      <td>False</td>\n",
       "      <td>False</td>\n",
       "      <td>False</td>\n",
       "      <td>False</td>\n",
       "      <td>False</td>\n",
       "      <td>False</td>\n",
       "    </tr>\n",
       "    <tr>\n",
       "      <th>1</th>\n",
       "      <td>False</td>\n",
       "      <td>False</td>\n",
       "      <td>False</td>\n",
       "      <td>False</td>\n",
       "      <td>False</td>\n",
       "      <td>False</td>\n",
       "      <td>False</td>\n",
       "      <td>False</td>\n",
       "    </tr>\n",
       "    <tr>\n",
       "      <th>2</th>\n",
       "      <td>False</td>\n",
       "      <td>False</td>\n",
       "      <td>False</td>\n",
       "      <td>False</td>\n",
       "      <td>False</td>\n",
       "      <td>False</td>\n",
       "      <td>False</td>\n",
       "      <td>False</td>\n",
       "    </tr>\n",
       "    <tr>\n",
       "      <th>3</th>\n",
       "      <td>False</td>\n",
       "      <td>False</td>\n",
       "      <td>False</td>\n",
       "      <td>False</td>\n",
       "      <td>False</td>\n",
       "      <td>False</td>\n",
       "      <td>False</td>\n",
       "      <td>False</td>\n",
       "    </tr>\n",
       "    <tr>\n",
       "      <th>4</th>\n",
       "      <td>False</td>\n",
       "      <td>False</td>\n",
       "      <td>False</td>\n",
       "      <td>False</td>\n",
       "      <td>False</td>\n",
       "      <td>False</td>\n",
       "      <td>False</td>\n",
       "      <td>False</td>\n",
       "    </tr>\n",
       "    <tr>\n",
       "      <th>...</th>\n",
       "      <td>...</td>\n",
       "      <td>...</td>\n",
       "      <td>...</td>\n",
       "      <td>...</td>\n",
       "      <td>...</td>\n",
       "      <td>...</td>\n",
       "      <td>...</td>\n",
       "      <td>...</td>\n",
       "    </tr>\n",
       "    <tr>\n",
       "      <th>572</th>\n",
       "      <td>False</td>\n",
       "      <td>False</td>\n",
       "      <td>False</td>\n",
       "      <td>False</td>\n",
       "      <td>False</td>\n",
       "      <td>False</td>\n",
       "      <td>False</td>\n",
       "      <td>False</td>\n",
       "    </tr>\n",
       "    <tr>\n",
       "      <th>573</th>\n",
       "      <td>False</td>\n",
       "      <td>False</td>\n",
       "      <td>False</td>\n",
       "      <td>False</td>\n",
       "      <td>False</td>\n",
       "      <td>False</td>\n",
       "      <td>False</td>\n",
       "      <td>False</td>\n",
       "    </tr>\n",
       "    <tr>\n",
       "      <th>574</th>\n",
       "      <td>False</td>\n",
       "      <td>False</td>\n",
       "      <td>False</td>\n",
       "      <td>False</td>\n",
       "      <td>False</td>\n",
       "      <td>False</td>\n",
       "      <td>False</td>\n",
       "      <td>False</td>\n",
       "    </tr>\n",
       "    <tr>\n",
       "      <th>575</th>\n",
       "      <td>False</td>\n",
       "      <td>False</td>\n",
       "      <td>False</td>\n",
       "      <td>False</td>\n",
       "      <td>False</td>\n",
       "      <td>False</td>\n",
       "      <td>False</td>\n",
       "      <td>False</td>\n",
       "    </tr>\n",
       "    <tr>\n",
       "      <th>576</th>\n",
       "      <td>False</td>\n",
       "      <td>False</td>\n",
       "      <td>False</td>\n",
       "      <td>False</td>\n",
       "      <td>False</td>\n",
       "      <td>False</td>\n",
       "      <td>False</td>\n",
       "      <td>False</td>\n",
       "    </tr>\n",
       "  </tbody>\n",
       "</table>\n",
       "<p>577 rows × 8 columns</p>\n",
       "</div>"
      ],
      "text/plain": [
       "     Survived  Pclass   Name    Sex    Age  Siblings/Spouses Aboard  \\\n",
       "0       False   False  False  False  False                    False   \n",
       "1       False   False  False  False  False                    False   \n",
       "2       False   False  False  False  False                    False   \n",
       "3       False   False  False  False  False                    False   \n",
       "4       False   False  False  False  False                    False   \n",
       "..        ...     ...    ...    ...    ...                      ...   \n",
       "572     False   False  False  False  False                    False   \n",
       "573     False   False  False  False  False                    False   \n",
       "574     False   False  False  False  False                    False   \n",
       "575     False   False  False  False  False                    False   \n",
       "576     False   False  False  False  False                    False   \n",
       "\n",
       "     Parents/Children Aboard   Fare  \n",
       "0                      False  False  \n",
       "1                      False  False  \n",
       "2                      False  False  \n",
       "3                      False  False  \n",
       "4                      False  False  \n",
       "..                       ...    ...  \n",
       "572                    False  False  \n",
       "573                    False  False  \n",
       "574                    False  False  \n",
       "575                    False  False  \n",
       "576                    False  False  \n",
       "\n",
       "[577 rows x 8 columns]"
      ]
     },
     "execution_count": 5,
     "metadata": {},
     "output_type": "execute_result"
    }
   ],
   "source": [
    "train_data.isnull()"
   ]
  },
  {
   "cell_type": "code",
   "execution_count": 6,
   "id": "9ccd2aa8",
   "metadata": {},
   "outputs": [
    {
     "name": "stdout",
     "output_type": "stream",
     "text": [
      "(577, 6)\n"
     ]
    }
   ],
   "source": [
    "#clean dataset\n",
    "\n",
    "#male = 1, female = 0\n",
    "train_data['Sex'] = train_data['Sex'].replace({'male':1, 'female':0})\n",
    "\n",
    "#remove names\n",
    "if 'Name' in train_data.columns:\n",
    "    train_data = train_data.drop('Name', axis=1)\n",
    "train_data.head()\n",
    "\n",
    "X_train = np.array(train_data.drop('Survived', axis=1))\n",
    "y_train = np.array(train_data['Survived'])\n",
    "print(X_train.shape)"
   ]
  },
  {
   "cell_type": "code",
   "execution_count": 7,
   "id": "23fd3aa3",
   "metadata": {},
   "outputs": [
    {
     "data": {
      "text/html": [
       "<div>\n",
       "<style scoped>\n",
       "    .dataframe tbody tr th:only-of-type {\n",
       "        vertical-align: middle;\n",
       "    }\n",
       "\n",
       "    .dataframe tbody tr th {\n",
       "        vertical-align: top;\n",
       "    }\n",
       "\n",
       "    .dataframe thead th {\n",
       "        text-align: right;\n",
       "    }\n",
       "</style>\n",
       "<table border=\"1\" class=\"dataframe\">\n",
       "  <thead>\n",
       "    <tr style=\"text-align: right;\">\n",
       "      <th></th>\n",
       "      <th>Survived</th>\n",
       "      <th>Pclass</th>\n",
       "      <th>Sex</th>\n",
       "      <th>Age</th>\n",
       "      <th>Siblings/Spouses Aboard</th>\n",
       "      <th>Parents/Children Aboard</th>\n",
       "      <th>Fare</th>\n",
       "    </tr>\n",
       "  </thead>\n",
       "  <tbody>\n",
       "    <tr>\n",
       "      <th>0</th>\n",
       "      <td>0</td>\n",
       "      <td>3</td>\n",
       "      <td>1</td>\n",
       "      <td>22.0</td>\n",
       "      <td>1</td>\n",
       "      <td>0</td>\n",
       "      <td>7.2500</td>\n",
       "    </tr>\n",
       "    <tr>\n",
       "      <th>1</th>\n",
       "      <td>1</td>\n",
       "      <td>1</td>\n",
       "      <td>0</td>\n",
       "      <td>38.0</td>\n",
       "      <td>1</td>\n",
       "      <td>0</td>\n",
       "      <td>71.2833</td>\n",
       "    </tr>\n",
       "    <tr>\n",
       "      <th>2</th>\n",
       "      <td>1</td>\n",
       "      <td>3</td>\n",
       "      <td>0</td>\n",
       "      <td>26.0</td>\n",
       "      <td>0</td>\n",
       "      <td>0</td>\n",
       "      <td>7.9250</td>\n",
       "    </tr>\n",
       "    <tr>\n",
       "      <th>3</th>\n",
       "      <td>1</td>\n",
       "      <td>1</td>\n",
       "      <td>0</td>\n",
       "      <td>35.0</td>\n",
       "      <td>1</td>\n",
       "      <td>0</td>\n",
       "      <td>53.1000</td>\n",
       "    </tr>\n",
       "    <tr>\n",
       "      <th>4</th>\n",
       "      <td>0</td>\n",
       "      <td>3</td>\n",
       "      <td>1</td>\n",
       "      <td>35.0</td>\n",
       "      <td>0</td>\n",
       "      <td>0</td>\n",
       "      <td>8.0500</td>\n",
       "    </tr>\n",
       "  </tbody>\n",
       "</table>\n",
       "</div>"
      ],
      "text/plain": [
       "   Survived  Pclass  Sex   Age  Siblings/Spouses Aboard  \\\n",
       "0         0       3    1  22.0                        1   \n",
       "1         1       1    0  38.0                        1   \n",
       "2         1       3    0  26.0                        0   \n",
       "3         1       1    0  35.0                        1   \n",
       "4         0       3    1  35.0                        0   \n",
       "\n",
       "   Parents/Children Aboard     Fare  \n",
       "0                        0   7.2500  \n",
       "1                        0  71.2833  \n",
       "2                        0   7.9250  \n",
       "3                        0  53.1000  \n",
       "4                        0   8.0500  "
      ]
     },
     "execution_count": 7,
     "metadata": {},
     "output_type": "execute_result"
    }
   ],
   "source": [
    "train_data.head()"
   ]
  },
  {
   "cell_type": "code",
   "execution_count": 8,
   "id": "6aeb248a",
   "metadata": {},
   "outputs": [
    {
     "data": {
      "text/plain": [
       "<matplotlib.collections.PathCollection at 0x2269aefef50>"
      ]
     },
     "execution_count": 8,
     "metadata": {},
     "output_type": "execute_result"
    },
    {
     "data": {
      "image/png": "[encoded data removed]",
      "text/plain": [
       "<Figure size 640x480 with 1 Axes>"
      ]
     },
     "metadata": {},
     "output_type": "display_data"
    }
   ],
   "source": [
    "x = train_data['Fare']\n",
    "y = train_data['Survived']\n",
    "plt.scatter(x, y)"
   ]
  },
  {
   "cell_type": "code",
   "execution_count": 9,
   "id": "255a233d",
   "metadata": {},
   "outputs": [
    {
     "data": {
      "text/plain": [
       "0.916290731874155"
      ]
     },
     "execution_count": 9,
     "metadata": {},
     "output_type": "execute_result"
    }
   ],
   "source": [
    "def loss_func(y, y_hat):\n",
    "    \n",
    "    loss = - y*(np.log(y_hat)) - (1-y)*(np.log(1-y_hat))\n",
    "    return loss\n",
    "\n",
    "loss_func(0, 0.6)"
   ]
  },
  {
   "cell_type": "code",
   "execution_count": 10,
   "id": "ab798d5b",
   "metadata": {},
   "outputs": [],
   "source": [
    "x = np.arange(0.001, 1, 0.001)\n",
    "y0 = loss_func(0, x)\n",
    "y1 = loss_func(1, x)\n",
    "# plt.plot(x, y0)\n",
    "# plt.plot(x, y1)"
   ]
  },
  {
   "cell_type": "code",
   "execution_count": 11,
   "id": "4a72fce3",
   "metadata": {},
   "outputs": [],
   "source": [
    "def cost_func(y, y_hat):\n",
    "    m = len(y)\n",
    "    cost = 0\n",
    "    for i in range(m):\n",
    "        \n",
    "        cost += loss_func(y[i], y_hat[i])\n",
    "    \n",
    "    cost = cost/m\n",
    "    \n",
    "    return cost"
   ]
  },
  {
   "cell_type": "code",
   "execution_count": 12,
   "id": "8df0ce67",
   "metadata": {},
   "outputs": [
    {
     "name": "stdout",
     "output_type": "stream",
     "text": [
      "gradient_func(X = [[ 10  20]\n",
      " [-10  10]], y = [1 0], w = [0.5 1.5], b = 1) = (array([-4.99991649,  4.99991649]), 0.4999916492890759, 5.500008350784906)\n"
     ]
    }
   ],
   "source": [
    "def gradient_func(X, y, w, b):\n",
    "    m, n = X.shape\n",
    "    dj_dw = np.zeros(n)\n",
    "    dj_db = 0\n",
    "    cost = 0\n",
    "    y_pred = []\n",
    "    for i in range(m):\n",
    "        #f_wb = w.x + b\n",
    "        f_wb = 0\n",
    "        for j in range(n):\n",
    "            f_wb += w[j] * X[i][j]\n",
    "        f_wb += b\n",
    "        y_hat = sigmoid(f_wb)\n",
    "        \n",
    "        for j in range(n):\n",
    "            dj_dw[j] += (y_hat - y[i])*X[i][j]\n",
    "            \n",
    "        dj_db += y_hat - y[i]\n",
    "        \n",
    "        y_pred.append(y_hat)\n",
    "    \n",
    "    cost = cost_func(y, y_pred)\n",
    "#         cost += cost_func(y[i], y_hat)\n",
    "    dj_dw = dj_dw/m\n",
    "    dj_db = dj_db/m\n",
    "    \n",
    "    return dj_dw, dj_db, cost\n",
    "X, y, w, b = np.array([[10, 20], [-10, 10]]), np.array([1, 0]), np.array([0.5, 1.5]), 1\n",
    "print(f\"gradient_func(X = {X}, y = {y}, w = {w}, b = {b}) = {gradient_func(X, y, w, b)}\")"
   ]
  },
  {
   "cell_type": "code",
   "execution_count": 15,
   "id": "986a995e",
   "metadata": {
    "scrolled": true
   },
   "outputs": [
    {
     "name": "stdout",
     "output_type": "stream",
     "text": [
      "[0, [array([-1.75476603e-03, -9.79202773e-04, -1.74566724e-02, -4.24610052e-04,\n",
      "       -3.89948007e-05,  5.87678899e-03]), -0.0005155979202772964], 0.6931471805599468]\n",
      "[1000, [array([-0.12946312, -0.51812197, -0.03108548, -0.25616039,  0.00814013,\n",
      "        0.00566528]), 0.030139504238328077], 0.7741312727015663]\n",
      "[2000, [array([-0.07996941, -0.9133067 , -0.02735897, -0.32819973,  0.04933804,\n",
      "        0.00566552]), 0.11280990229258829], 0.7187931432773208]\n",
      "[3000, [array([-0.04185368, -1.23214124, -0.02456833, -0.36224814,  0.07221857,\n",
      "        0.00543884]), 0.1952603810526465], 0.6794959371905103]\n",
      "[4000, [array([-0.01843573, -1.4892222 , -0.02202155, -0.37980086,  0.08104388,\n",
      "        0.00517055]), 0.275978331517562], 0.6496842167445476]\n",
      "[5000, [array([-0.00543563, -1.69599689, -0.01984895, -0.38882991,  0.08128483,\n",
      "        0.00491237]), 0.355565770052593], 0.6268055418603838]\n",
      "[6000, [array([ 1.63965936e-04, -1.86214951e+00, -1.81008159e-02, -3.93377681e-01,\n",
      "        7.67132480e-02,  4.67736124e-03]), 0.43432500464919804], 0.6091801931761023]\n",
      "[7000, [array([ 3.68999991e-04, -1.99573057e+00, -1.67628414e-02, -3.95615513e-01,\n",
      "        6.97249568e-02,  4.46351630e-03]), 0.5123372729333003], 0.5955663701761864]\n",
      "[8000, [array([-0.0034249 , -2.10331959, -0.01579136, -0.39672426,  0.06177729,\n",
      "        0.00426409]), 0.5895787948052043], 0.5850149567497885]\n",
      "[9000, [array([-0.01020855, -2.19022761, -0.01513287, -0.39734219,  0.05371927,\n",
      "        0.00407222]), 0.6659831939493612], 0.5767968681058117]\n",
      "[10000, [array([-0.01923342, -2.2607049 , -0.01473394, -0.39780597,  0.04601687,\n",
      "        0.00388267]), 0.7414727657319767], 0.5703552139598147]\n",
      "[11000, [array([-0.02993494, -2.31813383, -0.01454592, -0.39828442,  0.03890038,\n",
      "        0.00369213]), 0.8159735776722389], 0.5652678348485776]\n",
      "[12000, [array([-0.04188212, -2.36519715, -0.01452672, -0.39885416,  0.03245867,\n",
      "        0.00349896]), 0.8894220878390736], 0.5612164295167011]\n",
      "[13000, [array([-0.05474291, -2.40401932, -0.01464107, -0.3995425 ,  0.02669873,\n",
      "        0.00330273]), 0.961767308345789], 0.5579614750761179]\n",
      "[14000, [array([-0.06825963, -2.43628192, -0.01486002, -0.40035153,  0.02158268,\n",
      "        0.00310378]), 1.0329707087461077], 0.5553224914400411]\n",
      "[15000, [array([-0.08223127, -2.46331636, -0.01516012, -0.4012715 ,  0.01705062,\n",
      "        0.00290286]), 1.1030050716789654], 0.5531629609510663]\n",
      "[16000, [array([-0.09650043, -2.48617756, -0.01552255, -0.40228794,  0.01303433,\n",
      "        0.00270091]), 1.1718529593536562], 0.5513790478063614]\n",
      "[17000, [array([-1.10943682e-01, -2.50570210e+00, -1.59322712e-02, -4.03385352e-01,\n",
      "        9.46525674e-03,  2.49891090e-03]), 1.2395051326050661], 0.5498912676033119]\n",
      "[18000, [array([-1.25464191e-01, -2.52255411e+00, -1.63773396e-02, -4.04549022e-01,\n",
      "        6.27890783e-03,  2.29775146e-03]), 1.3059590851735101], 0.5486383706446579]\n",
      "[19000, [array([-1.39986135e-01, -2.53726131e+00, -1.68482821e-02, -4.05765714e-01,\n",
      "        3.41701636e-03,  2.09822386e-03]), 1.3712177578012446], 0.5475728518471027]\n",
      "[20000, [array([-1.54450337e-01, -2.55024342e+00, -1.73376039e-02, -4.07023905e-01,\n",
      "        8.28347621e-04,  1.90098664e-03]), 1.4352884456620658], 0.5466576425495768]\n",
      "[21000, [array([-1.68810857e-01, -2.56183456e+00, -1.78393857e-02, -4.08313738e-01,\n",
      "       -1.53128189e-03,  1.70656811e-03]), 1.4981818880982394], 0.545863657783032]\n",
      "[22000, [array([-1.83032300e-01, -2.57230090e+00, -1.83489614e-02, -4.09626871e-01,\n",
      "       -3.69942526e-03,  1.51537596e-03]), 1.5599115195480244], 0.5451679636105777]\n",
      "[23000, [array([-1.97087680e-01, -2.58185463e+00, -1.88626599e-02, -4.10956287e-01,\n",
      "       -5.70764318e-03,  1.32771157e-03]), 1.620492857950658], 0.5445523962287698]\n",
      "[24000, [array([-2.10956710e-01, -2.59066503e+00, -1.93776001e-02, -4.12296104e-01,\n",
      "       -7.58222397e-03,  1.14378580e-03]), 1.6799430079248434], 0.5440025126975337]\n",
      "[25000, [array([-2.24624445e-01, -2.59886719e+00, -1.98915283e-02, -4.13641404e-01,\n",
      "       -9.34490555e-03,  9.63734419e-04]), 1.7382802585349186], 0.5435067872909083]\n",
      "[26000, [array([-2.38080184e-01, -2.60656904e+00, -2.04026889e-02, -4.14988080e-01,\n",
      "       -1.10135550e-02,  7.87632218e-04]), 1.7955237584056478], 0.5430559914948421]\n",
      "[27000, [array([-2.51316600e-01, -2.61385680e+00, -2.09097215e-02, -4.16332706e-01,\n",
      "       -1.26027833e-02,  6.15505453e-04]), 1.8516932538042423], 0.5426427126076486]\n",
      "[28000, [array([-2.64329038e-01, -2.62079940e+00, -2.14115800e-02, -4.17672430e-01,\n",
      "       -1.41244875e-02,  4.47342397e-04]), 1.9068088778580319], 0.5422609778765036]\n",
      "[29000, [array([-2.77114947e-01, -2.62745201e+00, -2.19074678e-02, -4.19004876e-01,\n",
      "       -1.55883187e-02,  2.83102170e-04]), 1.9608909812537436], 0.5419059596414998]\n",
      "[30000, [array([-2.89673437e-01, -2.63385876e+00, -2.23967862e-02, -4.20328073e-01,\n",
      "       -1.70020813e-02,  1.22721978e-04]), 2.0139599965770354], 0.5415737431035952]\n",
      "[31000, [array([-3.02004909e-01, -2.64005502e+00, -2.28790938e-02, -4.21640384e-01,\n",
      "       -1.83720693e-02, -3.38770235e-05]), 2.0660363299380156], 0.5412611428033862]\n",
      "[32000, [array([-3.14110775e-01, -2.64606916e+00, -2.33540741e-02, -4.22940459e-01,\n",
      "       -1.97033473e-02, -1.86785045e-04]), 2.117140274738031], 0.5409655571869835]\n",
      "[33000, [array([-3.25993219e-01, -2.65192392e+00, -2.38215096e-02, -4.24227184e-01,\n",
      "       -2.09999836e-02, -3.36099948e-04]), 2.167291943411746], 0.5406848530829151]\n",
      "[34000, [array([-3.37655017e-01, -2.65763760e+00, -2.42812611e-02, -4.25499647e-01,\n",
      "       -2.22652420e-02, -4.81924336e-04]), 2.216511213769451], 0.5404172737546462]\n",
      "[35000, [array([-3.49099390e-01, -2.66322492e+00, -2.47332512e-02, -4.26757106e-01,\n",
      "       -2.35017400e-02, -6.24363302e-04]), 2.264817687202548], 0.5401613655910379]\n",
      "[36000, [array([-3.60329885e-01, -2.66869773e+00, -2.51774518e-02, -4.27998960e-01,\n",
      "       -2.47115769e-02, -7.63522687e-04]), 2.312230656530361], 0.5399159195678342]\n",
      "[37000, [array([-3.71350282e-01, -2.67406564e+00, -2.56138727e-02, -4.29224732e-01,\n",
      "       -2.58964389e-02, -8.99507779e-04]), 2.358769081682773], 0.5396799244394861]\n",
      "[38000, [array([-3.82164521e-01, -2.67933642e+00, -2.60425544e-02, -4.30434046e-01,\n",
      "       -2.70576837e-02, -1.03242233e-03]), 2.4044515717497235], 0.53945252926255]\n",
      "[39000, [array([-3.92776645e-01, -2.68451638e+00, -2.64635603e-02, -4.31626614e-01,\n",
      "       -2.81964096e-02, -1.16236784e-03]), 2.449296372201457], 0.5392330133530632]\n",
      "[40000, [array([-4.03190752e-01, -2.68961071e+00, -2.68769724e-02, -4.32802222e-01,\n",
      "       -2.93135099e-02, -1.28944306e-03]), 2.493321356304325], 0.5390207621735039]\n",
      "[41000, [array([-4.13410959e-01, -2.69462364e+00, -2.72828863e-02, -4.33960721e-01,\n",
      "       -3.04097180e-02, -1.41374363e-03]), 2.5365440199366063], 0.5388152479544785]\n",
      "[42000, [array([-4.23441377e-01, -2.69955868e+00, -2.76814084e-02, -4.35102016e-01,\n",
      "       -3.14856426e-02, -1.53536186e-03]), 2.578981479154565], 0.5386160141007073]\n",
      "[43000, [array([-4.33286084e-01, -2.70441877e+00, -2.80726528e-02, -4.36226058e-01,\n",
      "       -3.25417955e-02, -1.65438663e-03]), 2.6206504699778694], 0.5384226626243815]\n",
      "[44000, [array([-4.42949114e-01, -2.70920637e+00, -2.84567392e-02, -4.37332839e-01,\n",
      "       -3.35786147e-02, -1.77090330e-03]), 2.661567349959927], 0.5382348440024058]\n",
      "[45000, [array([-4.52434441e-01, -2.71392355e+00, -2.88337913e-02, -4.38422385e-01,\n",
      "       -3.45964821e-02, -1.88499374e-03]), 2.7017481011878397], 0.5380522489759856]\n",
      "[46000, [array([-4.61745970e-01, -2.71857212e+00, -2.92039355e-02, -4.39494752e-01,\n",
      "       -3.55957370e-02, -1.99673637e-03]), 2.741208334420745], 0.5378746019079838]\n",
      "[47000, [array([-4.70887532e-01, -2.72315365e+00, -2.95672994e-02, -4.40550024e-01,\n",
      "       -3.65766873e-02, -2.10620624e-03]), 2.779963294128039], 0.537701655390703]\n",
      "[48000, [array([-4.79862876e-01, -2.72766951e+00, -2.99240116e-02, -4.41588304e-01,\n",
      "       -3.75396182e-02, -2.21347510e-03]), 2.818027864232003], 0.5375331858583269]\n",
      "[49000, [array([-4.88675668e-01, -2.73212092e+00, -3.02742004e-02, -4.42609716e-01,\n",
      "       -3.84847986e-02, -2.31861155e-03]), 2.8554165743942876], 0.5373689900073502]\n"
     ]
    }
   ],
   "source": [
    "def descent(X, y, w, b, l_rate, epochs):\n",
    "    history = []\n",
    "    for epoch in range(epochs):\n",
    "        dj_dw, dj_db, cost = gradient_func(X, y, w, b)\n",
    "        temp_w = w - l_rate*dj_dw\n",
    "        temp_b = b - l_rate*dj_db\n",
    "        w = temp_w\n",
    "        b = temp_b\n",
    "        history.append([epoch, [w, b], cost])\n",
    "        \n",
    "        if epoch%1000 == 0:\n",
    "            print(history[epoch])\n",
    "            \n",
    "    return w, b, history\n",
    "\n",
    "X, y, w, b, alpha, n_iter = X_train, y_train, np.zeros(X_train.shape[1]), 0., 0.005, 50000\n",
    "w_out, b_out, cost_history = descent(X, y, w, b, alpha, n_iter)    "
   ]
  },
  {
   "cell_type": "code",
   "execution_count": 18,
   "id": "ba49b681",
   "metadata": {},
   "outputs": [
    {
     "name": "stdout",
     "output_type": "stream",
     "text": [
      "[49999, [array([-0.49652   , -2.73625151, -0.01593259, -0.44335039, -0.03919001,\n",
      "        0.02495499]), 2.89254908365882], 0.5057530646193334]\n"
     ]
    }
   ],
   "source": [
    "print(cost_history[-1])"
   ]
  },
  {
   "cell_type": "code",
   "execution_count": 21,
   "id": "3adf377e",
   "metadata": {},
   "outputs": [
    {
     "name": "stdout",
     "output_type": "stream",
     "text": [
      "79.37608318890814\n"
     ]
    }
   ],
   "source": [
    "w1, b1 = w_out, b_out\n",
    "probability_out = sigmoid(np.dot(X_train, w1) + b1)\n",
    "#print(probability_out)\n",
    "\n",
    "final_pred = []\n",
    "for i in probability_out:\n",
    "    if i >= 0.7:\n",
    "        final_pred.append(1)\n",
    "    else:\n",
    "        final_pred.append(0)\n",
    "# print(len(final_pred))\n",
    "# print(train_data['Survived'])\n",
    "\n",
    "accuracy = 0\n",
    "for i, j in zip(final_pred, train_data['Survived']):\n",
    "    if i == j:\n",
    "        accuracy += 1\n",
    "\n",
    "accuracy_percentage = (accuracy/len(final_pred))*100\n",
    "print(accuracy_percentage)"
   ]
  },
  {
   "cell_type": "code",
   "execution_count": 36,
   "id": "e6e896ab",
   "metadata": {},
   "outputs": [
    {
     "name": "stdout",
     "output_type": "stream",
     "text": [
      "[0.69314718 0.65254863 0.65239394 ... 0.50575357 0.5372092  0.50575306]\n"
     ]
    },
    {
     "data": {
      "text/plain": [
       "[<matplotlib.lines.Line2D at 0x226a62903a0>]"
      ]
     },
     "execution_count": 36,
     "metadata": {},
     "output_type": "execute_result"
    },
    {
     "data": {
      "image/png": "[encoded data removed]",
      "text/plain": [
       "<Figure size 640x480 with 1 Axes>"
      ]
     },
     "metadata": {},
     "output_type": "display_data"
    }
   ],
   "source": [
    "x = np.arange(n_iter)\n",
    "y = np.array([cost_history[i][-1] for i in range(len(cost_history))])\n",
    "print(y)\n",
    "plt.plot(x, y)"
   ]
  },
  {
   "cell_type": "code",
   "execution_count": null,
   "id": "e16c7dfd",
   "metadata": {},
   "outputs": [],
   "source": []
  }
 ],
 "metadata": {
  "kernelspec": {
   "display_name": "Python 3 (ipykernel)",
   "language": "python",
   "name": "python3"
  },
  "language_info": {
   "codemirror_mode": {
    "name": "ipython",
    "version": 3
   },
   "file_extension": ".py",
   "mimetype": "text/x-python",
   "name": "python",
   "nbconvert_exporter": "python",
   "pygments_lexer": "ipython3",
   "version": "3.10.12"
  }
 },
 "nbformat": 4,
 "nbformat_minor": 5
}
