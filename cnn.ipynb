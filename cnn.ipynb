{
 "cells": [
  {
   "cell_type": "code",
   "execution_count": 153,
   "id": "438dc299",
   "metadata": {},
   "outputs": [],
   "source": [
    "import tensorflow as tf\n",
    "import cv2 as cv\n",
    "import os\n",
    "from tensorflow.keras import datasets, layers, models\n",
    "import matplotlib.pyplot as plt\n",
    "import numpy as np\n",
    "#print(\"TensorFlow version:\", tf.__version__)"
   ]
  },
  {
   "cell_type": "code",
   "execution_count": 154,
   "id": "b872d50f",
   "metadata": {},
   "outputs": [
    {
     "data": {
      "text/plain": [
       "[]"
      ]
     },
     "execution_count": 154,
     "metadata": {},
     "output_type": "execute_result"
    }
   ],
   "source": [
    "tf.config.list_physical_devices('GPU')"
   ]
  },
  {
   "cell_type": "code",
   "execution_count": 155,
   "id": "e4cfe5bb",
   "metadata": {},
   "outputs": [],
   "source": [
    "gpus = tf.config.experimental.list_physical_devices('GPU')\n",
    "for gpu in gpus: \n",
    "    tf.config.experimental.set_memory_growth(gpu, True)"
   ]
  },
  {
   "cell_type": "code",
   "execution_count": 156,
   "id": "8607ea76",
   "metadata": {},
   "outputs": [],
   "source": [
    "test_path = \"C:\\Laya\\ProjectManas\\CNN\\\\A,B,CNNS_with_Tim\\\\A,B,CNNS_with_Tim\\\\veggie_heap_testing\"\n",
    "train_path = \"C:\\Laya\\ProjectManas\\\\CNN\\\\A,B,CNNS_with_Tim\\\\A,B,CNNS_with_Tim\\\\veggie_heap_training\""
   ]
  },
  {
   "cell_type": "code",
   "execution_count": 157,
   "id": "d0fc0ee6",
   "metadata": {},
   "outputs": [
    {
     "name": "stdout",
     "output_type": "stream",
     "text": [
      "{0: \"Apatosaur Aphie's Apples\", 1: \"Bluplocephalus Bob's Blueberries\", 2: \"Cherizinoasaur Cher's Cherries\", 3: \"Corythosaurus Cory's Corn\", 4: \"Grapthorina Greta's Grapes\", 5: \"Pachycephalosaurus Perry's Peaches\", 6: \"Pepteranodon Pep's Peppers\", 7: \"Potoceratops Pott's Potatoes\", 8: \"Rhaspdodon Ribery's Raspberries\", 9: \"Stribecosaurus Stan's Strawberries\", 10: \"Thyreosaur Tim's Thyme\", 11: 'vacation_photos'}\n"
     ]
    }
   ],
   "source": [
    "class_num = [x for x in range(len(os.listdir(train_path)))]\n",
    "folder_dict = dict(zip(class_num, os.listdir(train_path)))\n",
    "print(folder_dict)\n",
    "class_names = os.listdir(train_path)"
   ]
  },
  {
   "cell_type": "code",
   "execution_count": 158,
   "id": "724dabe2",
   "metadata": {},
   "outputs": [
    {
     "name": "stdout",
     "output_type": "stream",
     "text": [
      "Found 9835 files belonging to 12 classes.\n"
     ]
    },
    {
     "data": {
      "text/plain": [
       "9835"
      ]
     },
     "execution_count": 158,
     "metadata": {},
     "output_type": "execute_result"
    }
   ],
   "source": [
    "#training_images = tf.keras.utils.image_dataset_from_directory(train_path, batch_size=None, label_mode='int')\n",
    "training_images = tf.keras.utils.image_dataset_from_directory(train_path, batch_size=9835)\n",
    "train_iterator = training_images.as_numpy_iterator()\n",
    "train = train_iterator.next()\n",
    "# for i in range(0, 307):\n",
    "#     train += train_iterator.next()\n",
    "    \n",
    "# #train = train[0]\n",
    "len(train[0])"
   ]
  },
  {
   "cell_type": "code",
   "execution_count": 159,
   "id": "1242ea9d",
   "metadata": {},
   "outputs": [
    {
     "name": "stdout",
     "output_type": "stream",
     "text": [
      "Found 2424 files belonging to 12 classes.\n"
     ]
    },
    {
     "data": {
      "text/plain": [
       "2424"
      ]
     },
     "execution_count": 159,
     "metadata": {},
     "output_type": "execute_result"
    }
   ],
   "source": [
    "#testing_images = tf.keras.utils.image_dataset_from_directory(test_path, batch_size=None, label_mode='int')\n",
    "testing_images = tf.keras.utils.image_dataset_from_directory(test_path, batch_size=2424)\n",
    "test_iterator = testing_images.as_numpy_iterator()\n",
    "test = test_iterator.next()\n",
    "# for i in range(0, 75):\n",
    "#     test += test_iterator.next()\n",
    "\n",
    "#test = test[0]\n",
    "len(test[0])"
   ]
  },
  {
   "cell_type": "code",
   "execution_count": 160,
   "id": "65be9ece",
   "metadata": {},
   "outputs": [],
   "source": [
    "model = models.Sequential()\n",
    "model.add(layers.Conv2D(32, (3, 3), activation='relu', input_shape=(256, 256, 3)))\n",
    "model.add(layers.MaxPooling2D((2, 2)))\n",
    "model.add(layers.Conv2D(64, (3, 3), activation='relu'))\n",
    "model.add(layers.MaxPooling2D((2, 2)))\n",
    "model.add(layers.Conv2D(64, (3, 3), activation='relu'))"
   ]
  },
  {
   "cell_type": "code",
   "execution_count": 161,
   "id": "78393b6b",
   "metadata": {},
   "outputs": [],
   "source": [
    "model.add(layers.Flatten())\n",
    "model.add(layers.Dense(64, activation='relu'))\n",
    "model.add(layers.Dense(12))"
   ]
  },
  {
   "cell_type": "code",
   "execution_count": 162,
   "id": "4d074049",
   "metadata": {},
   "outputs": [
    {
     "name": "stdout",
     "output_type": "stream",
     "text": [
      "Model: \"sequential_6\"\n",
      "_________________________________________________________________\n",
      " Layer (type)                Output Shape              Param #   \n",
      "=================================================================\n",
      " conv2d_16 (Conv2D)          (None, 254, 254, 32)      896       \n",
      "                                                                 \n",
      " max_pooling2d_11 (MaxPoolin  (None, 127, 127, 32)     0         \n",
      " g2D)                                                            \n",
      "                                                                 \n",
      " conv2d_17 (Conv2D)          (None, 125, 125, 64)      18496     \n",
      "                                                                 \n",
      " max_pooling2d_12 (MaxPoolin  (None, 62, 62, 64)       0         \n",
      " g2D)                                                            \n",
      "                                                                 \n",
      " conv2d_18 (Conv2D)          (None, 60, 60, 64)        36928     \n",
      "                                                                 \n",
      " flatten_6 (Flatten)         (None, 230400)            0         \n",
      "                                                                 \n",
      " dense_12 (Dense)            (None, 64)                14745664  \n",
      "                                                                 \n",
      " dense_13 (Dense)            (None, 12)                780       \n",
      "                                                                 \n",
      "=================================================================\n",
      "Total params: 14,802,764\n",
      "Trainable params: 14,802,764\n",
      "Non-trainable params: 0\n",
      "_________________________________________________________________\n"
     ]
    }
   ],
   "source": [
    "model.summary()"
   ]
  },
  {
   "cell_type": "code",
   "execution_count": 163,
   "id": "2b44ab4b",
   "metadata": {
    "scrolled": true
   },
   "outputs": [
    {
     "name": "stdout",
     "output_type": "stream",
     "text": [
      "Epoch 1/10\n",
      "308/308 [==============================] - 193s 620ms/step - loss: 12.9633 - accuracy: 0.3632 - val_loss: 2.4915 - val_accuracy: 0.2574\n",
      "Epoch 2/10\n",
      "308/308 [==============================] - 190s 617ms/step - loss: 1.6173 - accuracy: 0.5047 - val_loss: 2.2792 - val_accuracy: 0.3564\n",
      "Epoch 3/10\n",
      "308/308 [==============================] - 192s 622ms/step - loss: 0.9924 - accuracy: 0.6857 - val_loss: 4.0272 - val_accuracy: 0.3073\n",
      "Epoch 4/10\n",
      "308/308 [==============================] - 190s 618ms/step - loss: 0.6611 - accuracy: 0.8115 - val_loss: 3.3780 - val_accuracy: 0.4125\n",
      "Epoch 5/10\n",
      "308/308 [==============================] - 195s 634ms/step - loss: 0.3077 - accuracy: 0.9055 - val_loss: 4.3457 - val_accuracy: 0.3886\n",
      "Epoch 6/10\n",
      "308/308 [==============================] - 128s 416ms/step - loss: 0.1424 - accuracy: 0.9624 - val_loss: 5.6237 - val_accuracy: 0.4257\n",
      "Epoch 7/10\n",
      "308/308 [==============================] - 126s 409ms/step - loss: 0.1013 - accuracy: 0.9738 - val_loss: 5.5549 - val_accuracy: 0.4229\n",
      "Epoch 8/10\n",
      "308/308 [==============================] - 120s 389ms/step - loss: 0.0769 - accuracy: 0.9838 - val_loss: 6.2195 - val_accuracy: 0.4398\n",
      "Epoch 9/10\n",
      "308/308 [==============================] - 119s 385ms/step - loss: 0.0817 - accuracy: 0.9802 - val_loss: 7.5944 - val_accuracy: 0.3490\n",
      "Epoch 10/10\n",
      "308/308 [==============================] - 118s 382ms/step - loss: 0.3234 - accuracy: 0.9166 - val_loss: 5.8713 - val_accuracy: 0.3899\n"
     ]
    }
   ],
   "source": [
    "model.compile(optimizer='adam',\n",
    "              loss=tf.keras.losses.SparseCategoricalCrossentropy(from_logits=True),\n",
    "              metrics=['accuracy'])\n",
    "\n",
    "history = model.fit(train[0], train[1], epochs=10, validation_data=test)"
   ]
  },
  {
   "cell_type": "code",
   "execution_count": 164,
   "id": "694eb39f",
   "metadata": {},
   "outputs": [
    {
     "name": "stderr",
     "output_type": "stream",
     "text": [
      "WARNING:absl:Found untraced functions such as _jit_compiled_convolution_op, _jit_compiled_convolution_op, _jit_compiled_convolution_op while saving (showing 3 of 3). These functions will not be directly callable after loading.\n"
     ]
    },
    {
     "name": "stdout",
     "output_type": "stream",
     "text": [
      "INFO:tensorflow:Assets written to: C:\\Laya\\ProjectManas\\CNN\\assets\n"
     ]
    },
    {
     "name": "stderr",
     "output_type": "stream",
     "text": [
      "INFO:tensorflow:Assets written to: C:\\Laya\\ProjectManas\\CNN\\assets\n"
     ]
    }
   ],
   "source": [
    "model.save(\"C:\\Laya\\ProjectManas\\CNN\")"
   ]
  },
  {
   "cell_type": "code",
   "execution_count": 151,
   "id": "7f7fc758",
   "metadata": {},
   "outputs": [],
   "source": [
    "model.save??"
   ]
  },
  {
   "cell_type": "code",
   "execution_count": null,
   "id": "4ddb5b7c",
   "metadata": {},
   "outputs": [],
   "source": []
  }
 ],
 "metadata": {
  "kernelspec": {
   "display_name": "Python 3 (ipykernel)",
   "language": "python",
   "name": "python3"
  },
  "language_info": {
   "codemirror_mode": {
    "name": "ipython",
    "version": 3
   },
   "file_extension": ".py",
   "mimetype": "text/x-python",
   "name": "python",
   "nbconvert_exporter": "python",
   "pygments_lexer": "ipython3",
   "version": "3.10.12"
  }
 },
 "nbformat": 4,
 "nbformat_minor": 5
}
